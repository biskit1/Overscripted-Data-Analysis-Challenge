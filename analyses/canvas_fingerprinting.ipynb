{
 "cells": [
  {
   "cell_type": "markdown",
   "metadata": {},
   "source": [
    "# Cookie-less Tracking Using Canvas Fingerprinting: \n",
    "How websites make it harder for users to control their privacy preferences.  "
   ]
  },
  {
   "cell_type": "markdown",
   "metadata": {},
   "source": [
    "For Mozilla's Overscripted Challenge.  \n",
    "**Analyses Category:** Tracking and Privacy\n",
    "\n",
    "**Authors of this notebook:** [Maya Filipp](https://github.com/mordax) (email: maya@mordax.io) and [Chaya Danzinger](https://github.com/biskit1) (email: chayadanz@gmail.com)"
   ]
  },
  {
   "cell_type": "markdown",
   "metadata": {},
   "source": [
    " **Mozilla's Principle 4:**\n",
    " __Individuals’ security and privacy on the internet are fundamental and must not be treated as optional.__\n",
    " "
   ]
  },
  {
   "cell_type": "markdown",
   "metadata": {},
   "source": [
    "Individuals cannot be promised this fundamental right when companies and websites utilize techniques to track them in such a way that it takes away their ability to guard themselves against it. It is up to the browsers to help identify and warn users of techniques that are not predefined or obvious (cookies have a clear way of being removed - canvas fingerprinting does not). "
   ]
  },
  {
   "cell_type": "markdown",
   "metadata": {},
   "source": [
    "This analysis aims to examine the given dataset and determine the prevalence of ways in which websites can track their users without using standard cookies,specifically exploring the use of canvas fingerprinting to uniquely identify visitors. A few external resources were used to cross reference some of our analyses, referenced further on. "
   ]
  },
  {
   "cell_type": "markdown",
   "metadata": {},
   "source": [
    "Fingerprinting has become [increasingly popular](https://webtransparency.cs.princeton.edu/webcensus/index.html), given the ease with which websites can access a persons browser and system settings/configuration. To generate a unique identifier, websites collect the values of as many browser and system settings as possible to calculate an identifier for that browser. Once generated, a fingerprint can be used by websites and trackers in a number of ways to accomplish a number of different things, including tracking users for business purposes (analytics, marketing, advertising), as well as actually following a user accross the web until it can actually [de-anonymize](https://robertheaton.com/2017/10/17/we-see-you-democratizing-de-anonymization/) them."
   ]
  },
  {
   "cell_type": "markdown",
   "metadata": {},
   "source": [
    "## Getting Started"
   ]
  },
  {
   "cell_type": "markdown",
   "metadata": {},
   "source": [
    " Using the same import statements as the hello_world.ipynb"
   ]
  },
  {
   "cell_type": "code",
   "execution_count": 1,
   "metadata": {},
   "outputs": [],
   "source": [
    "import numpy as np\n",
    "import pandas as pd\n",
    "\n",
    "# pd.options.display.max_rows = None\n",
    "# pd.options.display.max_columns = None\n",
    "# Do not truncate cell values\n",
    "# pd.set_option('display.max_colwidth', -1)"
   ]
  },
  {
   "cell_type": "code",
   "execution_count": 2,
   "metadata": {},
   "outputs": [],
   "source": [
    "import tldextract\n",
    "DATA_DIR = '../../sample/' # Adjust to your path to dir containing parquets \n",
    "PARQUET_FILE = DATA_DIR\n",
    "def extract_domain(url):\n",
    "    \"\"\"Use tldextract to return the base domain from a url\"\"\"\n",
    "    try:\n",
    "        extracted = tldextract.extract(url)\n",
    "        return '{}.{}'.format(extracted.domain, extracted.suffix)\n",
    "    except Exception as e:\n",
    "        return 'ERROR'\n"
   ]
  },
  {
   "cell_type": "code",
   "execution_count": 3,
   "metadata": {},
   "outputs": [],
   "source": [
    "import findspark\n",
    "findspark.init('D:\\spark-2.3.1-bin-hadoop2.7')  # Adjust for the location where you installed spark\n",
    "\n",
    "from pyspark import SparkContext\n",
    "from pyspark.sql import SparkSession\n",
    "\n",
    "sc = SparkContext(appName=\"Overscripted\")\n",
    "spark = SparkSession(sc)"
   ]
  },
  {
   "cell_type": "code",
   "execution_count": 4,
   "metadata": {},
   "outputs": [],
   "source": [
    "import requests\n",
    "from io import StringIO\n",
    "\n",
    "from pyspark.sql.functions import udf\n",
    "from pyspark.sql.types import *\n",
    "from urllib.parse import urlparse"
   ]
  },
  {
   "cell_type": "code",
   "execution_count": 33,
   "metadata": {},
   "outputs": [],
   "source": [
    "def parse_base_url(url):\n",
    "  return urlparse(url).netloc # Extract the base part of a URL (netloc, up until the first '/'). "
   ]
  },
  {
   "cell_type": "code",
   "execution_count": 6,
   "metadata": {},
   "outputs": [
    {
     "data": {
      "text/plain": [
       "27340"
      ]
     },
     "execution_count": 6,
     "metadata": {},
     "output_type": "execute_result"
    }
   ],
   "source": [
    "pdf = pd.read_parquet(PARQUET_FILE, engine='pyarrow')\n",
    "len(pdf)"
   ]
  },
  {
   "cell_type": "code",
   "execution_count": 32,
   "metadata": {},
   "outputs": [],
   "source": [
    "pdf['location_domain'] = pdf.location.apply(extract_domain)\n",
    "pdf['script_domain'] = pdf.script_url.apply(extract_domain)\n",
    "pdf['location_base_url'] = pdf.location.apply(parse_base_url)"
   ]
  },
  {
   "cell_type": "code",
   "execution_count": 8,
   "metadata": {},
   "outputs": [],
   "source": [
    "import dask.dataframe as dd\n",
    "from dask.diagnostics import ProgressBar\n",
    "ddf = dd.read_parquet(PARQUET_FILE, engine='pyarrow')\n",
    "ddf['location_domain'] = ddf.location.apply(extract_domain, meta=('x', 'str'))\n",
    "ddf['location_base_url'] = ddf.location.apply(parse_base_url, meta=('x', 'str'))\n",
    "ddf['script_domain'] = ddf.script_url.apply(extract_domain, meta=('x', 'str'))"
   ]
  },
  {
   "cell_type": "markdown",
   "metadata": {},
   "source": [
    "### Canvas Fingerprinting"
   ]
  },
  {
   "cell_type": "markdown",
   "metadata": {},
   "source": [
    "Just by looking at the [symbol counts](https://github.com/mozilla/Overscripted-Data-Analysis-Challenge/blob/master/data_prep/symbol_counts.csv), we were able to identify that the HTML5 `canvas` element was heavily involved in highly recurring calls to it's properties. Further research (outlined in [The Web Never Forgets](https://securehomes.esat.kuleuven.be/~gacar/persistent/the_web_never_forgets.pdf)) confirmed a common basic flow of operations used to fingerprint the canvas, which we were able to apply to this dataset to test for fingerprinting. Although the `canvas API` might be regularly used by websites to obtain information for innocent rendering purposes and more, using the flow of operations helped to identify cases in which it was being used for fingerprinting. "
   ]
  },
  {
   "cell_type": "markdown",
   "metadata": {},
   "source": [
    "#### The Flow of Operations"
   ]
  },
  {
   "cell_type": "markdown",
   "metadata": {},
   "source": [
    "Obtaining canvas properties isn't enough to uniquely identify a browser or user, since there can be many users who have the same settings, use the same browser, live in the same area, etc. In order to identify a person's canvas uniqueness, the canvas property will usually be used along with a call to `fillText` (and set calls to more properties), followed by `toDataURL` call, later explained. Below we are computing the relevant symbols used to investigate possibilities of fingerprinting. "
   ]
  },
  {
   "cell_type": "code",
   "execution_count": 9,
   "metadata": {},
   "outputs": [
    {
     "name": "stdout",
     "output_type": "stream",
     "text": [
      "[########################################] | 100% Completed |  1.5s\n",
      "[########################################] | 100% Completed |  1.4s\n",
      "[########################################] | 100% Completed |  1.2s\n",
      "[########################################] | 100% Completed |  1.3s\n",
      "[########################################] | 100% Completed |  1.4s\n",
      "[########################################] | 100% Completed |  1.3s\n"
     ]
    }
   ],
   "source": [
    "fillTexts = ddf[ddf.symbol == 'CanvasRenderingContext2D.fillText']\n",
    "toData = ddf[ddf.symbol == 'HTMLCanvasElement.toDataURL']\n",
    "strokeText = ddf[ddf.symbol == 'CanvasRenderingContext2D.strokeText']\n",
    "measureText = ddf[ddf.symbol == 'CanvasRenderingContext2D.measureText']\n",
    "dataImage = ddf[ddf.symbol == 'CanvasRenderingContext2D.putImageData']\n",
    "getContext = ddf[ddf.symbol == 'HTMLCanvasElement.getContext']\n",
    "with ProgressBar():\n",
    "    fillTexts = fillTexts.compute()\n",
    "    toData = toData.compute()\n",
    "    strokeText = strokeText.compute()\n",
    "    measureText = measureText.compute()\n",
    "    dataImage = dataImage.compute()\n",
    "    getContext = getContext.compute()"
   ]
  },
  {
   "cell_type": "code",
   "execution_count": 10,
   "metadata": {},
   "outputs": [],
   "source": [
    "import requests\n",
    "from io import StringIO\n",
    "\n",
    "from pyspark.sql.functions import udf\n",
    "from pyspark.sql.types import *\n",
    "from urllib.parse import urlparse"
   ]
  },
  {
   "cell_type": "markdown",
   "metadata": {},
   "source": [
    "#### fillText and toDataURL combined websites\n",
    "\n",
    "Some websites use both Canvas `fillText()` and `toDataURL()`. By filling the canvas with text and using `toDataURL` to get information on how the computer uniquely renders it, the site can tag you as a unique visitor. Usually the `fillText()` uses a pangram plus a unicode symbol (see a few cells below) so that it gets the most renderings for the most unique fingerprint. Interestingly enough, the websites that use a big set of fonts as arguments to filltext may be utilizing a different technique instead of a pangram. In [The Web Never Forgets]() they mention that if the image requested is not in a lossy format, it most likely is a Canvas fingerprint. Image/webp is passed as some of the arguments - webp can be used as a lossless format. `toDataURL` is also fascinating because it sends a [data](https://developer.mozilla.org/en-US/docs/Web/API/HTMLCanvasElement/toDataURL) representation of a canvas image with very detailed [URI components](https://developer.mozilla.org/en-US/docs/Web/HTTP/Basics_of_HTTP/Data_URIs) that can be encoded in Base 64 and later be used for unique identification.\n",
    "\n",
    "[**CanvasRenderingContext2D.measureText()**](https://developer.mozilla.org/en-US/docs/Web/API/CanvasRenderingContext2D/measureText) was not discussed in the articles but rather was a discovery of our own. A `measureText` method returns a [TextMetrics](https://developer.mozilla.org/en-US/docs/Web/API/TextMetrics) object that returns a calculated width of a segment of inline text in CSS pixels. It takes into account the current font of the context.(Width is currently the most supported measurement, there are many others that could potentially be used if browser support becomes ubiquitous). By passing a unique string and grabbing the width, it can be used as a replacment as a pangram in fingerprinting. We caught in one of our parquets (specifically the first download, first parquet file) that Stripe.network in particular was using this technique 58 times along with a fillText and a toDataURL.\n"
   ]
  },
  {
   "cell_type": "markdown",
   "metadata": {},
   "source": [
    "An identifying component of canvas fingerprinting is when a site calls `toDataURL` along with `fillText/strokeText/getContext/measureContext/dataImage`. Below we identified the unique locations that have at least one of the combinations: "
   ]
  },
  {
   "cell_type": "code",
   "execution_count": 11,
   "metadata": {},
   "outputs": [
    {
     "data": {
      "text/plain": [
       "58"
      ]
     },
     "execution_count": 11,
     "metadata": {},
     "output_type": "execute_result"
    }
   ],
   "source": [
    "measureText.location_domain.count()# Varies based on parquet files, sometimes this number is 0"
   ]
  },
  {
   "cell_type": "code",
   "execution_count": 12,
   "metadata": {
    "scrolled": true
   },
   "outputs": [
    {
     "data": {
      "text/html": [
       "<div>\n",
       "<style scoped>\n",
       "    .dataframe tbody tr th:only-of-type {\n",
       "        vertical-align: middle;\n",
       "    }\n",
       "\n",
       "    .dataframe tbody tr th {\n",
       "        vertical-align: top;\n",
       "    }\n",
       "\n",
       "    .dataframe thead th {\n",
       "        text-align: right;\n",
       "    }\n",
       "</style>\n",
       "<table border=\"1\" class=\"dataframe\">\n",
       "  <thead>\n",
       "    <tr style=\"text-align: right;\">\n",
       "      <th></th>\n",
       "      <th></th>\n",
       "      <th></th>\n",
       "      <th></th>\n",
       "      <th></th>\n",
       "      <th>0</th>\n",
       "      <th>0</th>\n",
       "      <th>0</th>\n",
       "    </tr>\n",
       "    <tr>\n",
       "      <th>location_domain</th>\n",
       "      <th>script_domain</th>\n",
       "      <th>argument_0</th>\n",
       "      <th>argument_1</th>\n",
       "      <th>symbol</th>\n",
       "      <th></th>\n",
       "      <th></th>\n",
       "      <th></th>\n",
       "    </tr>\n",
       "  </thead>\n",
       "  <tbody>\n",
       "    <tr>\n",
       "      <th>alicdn.com</th>\n",
       "      <th>alicdn.com</th>\n",
       "      <th>image/webp</th>\n",
       "      <th></th>\n",
       "      <th>HTMLCanvasElement.toDataURL</th>\n",
       "      <td>NaN</td>\n",
       "      <td>2.0</td>\n",
       "      <td>NaN</td>\n",
       "    </tr>\n",
       "    <tr>\n",
       "      <th rowspan=\"4\" valign=\"top\">coches.net</th>\n",
       "      <th rowspan=\"4\" valign=\"top\">coches.net</th>\n",
       "      <th></th>\n",
       "      <th></th>\n",
       "      <th>HTMLCanvasElement.toDataURL</th>\n",
       "      <td>NaN</td>\n",
       "      <td>2.0</td>\n",
       "      <td>NaN</td>\n",
       "    </tr>\n",
       "    <tr>\n",
       "      <th rowspan=\"2\" valign=\"top\">Cwm fjordbank glyphs vext quiz, ð</th>\n",
       "      <th>2</th>\n",
       "      <th>CanvasRenderingContext2D.fillText</th>\n",
       "      <td>1.0</td>\n",
       "      <td>NaN</td>\n",
       "      <td>NaN</td>\n",
       "    </tr>\n",
       "    <tr>\n",
       "      <th>4</th>\n",
       "      <th>CanvasRenderingContext2D.fillText</th>\n",
       "      <td>1.0</td>\n",
       "      <td>NaN</td>\n",
       "      <td>NaN</td>\n",
       "    </tr>\n",
       "    <tr>\n",
       "      <th>image/webp</th>\n",
       "      <th></th>\n",
       "      <th>HTMLCanvasElement.toDataURL</th>\n",
       "      <td>NaN</td>\n",
       "      <td>1.0</td>\n",
       "      <td>NaN</td>\n",
       "    </tr>\n",
       "    <tr>\n",
       "      <th rowspan=\"3\" valign=\"top\">coupang.com</th>\n",
       "      <th rowspan=\"3\" valign=\"top\">coupang.com</th>\n",
       "      <th></th>\n",
       "      <th></th>\n",
       "      <th>HTMLCanvasElement.toDataURL</th>\n",
       "      <td>NaN</td>\n",
       "      <td>2.0</td>\n",
       "      <td>NaN</td>\n",
       "    </tr>\n",
       "    <tr>\n",
       "      <th>!H71JCaj)]# 1@#</th>\n",
       "      <th>4</th>\n",
       "      <th>CanvasRenderingContext2D.fillText</th>\n",
       "      <td>2.0</td>\n",
       "      <td>NaN</td>\n",
       "      <td>NaN</td>\n",
       "    </tr>\n",
       "    <tr>\n",
       "      <th>Soft Ruddy Foothold 2</th>\n",
       "      <th>2</th>\n",
       "      <th>CanvasRenderingContext2D.fillText</th>\n",
       "      <td>2.0</td>\n",
       "      <td>NaN</td>\n",
       "      <td>NaN</td>\n",
       "    </tr>\n",
       "    <tr>\n",
       "      <th rowspan=\"2\" valign=\"top\">doubleclick.net</th>\n",
       "      <th rowspan=\"2\" valign=\"top\">doubleverify.com</th>\n",
       "      <th></th>\n",
       "      <th></th>\n",
       "      <th>HTMLCanvasElement.toDataURL</th>\n",
       "      <td>NaN</td>\n",
       "      <td>2.0</td>\n",
       "      <td>NaN</td>\n",
       "    </tr>\n",
       "    <tr>\n",
       "      <th>!image!</th>\n",
       "      <th>2</th>\n",
       "      <th>CanvasRenderingContext2D.fillText</th>\n",
       "      <td>2.0</td>\n",
       "      <td>NaN</td>\n",
       "      <td>NaN</td>\n",
       "    </tr>\n",
       "  </tbody>\n",
       "</table>\n",
       "</div>"
      ],
      "text/plain": [
       "                                                                                                                      0  \\\n",
       "location_domain script_domain    argument_0                           argument_1 symbol                                   \n",
       "alicdn.com      alicdn.com       image/webp                                      HTMLCanvasElement.toDataURL        NaN   \n",
       "coches.net      coches.net                                                       HTMLCanvasElement.toDataURL        NaN   \n",
       "                                 Cwm fjordbank glyphs vext quiz, ð 2          CanvasRenderingContext2D.fillText  1.0   \n",
       "                                                                      4          CanvasRenderingContext2D.fillText  1.0   \n",
       "                                 image/webp                                      HTMLCanvasElement.toDataURL        NaN   \n",
       "coupang.com     coupang.com                                                      HTMLCanvasElement.toDataURL        NaN   \n",
       "                                 !H71JCaj)]# 1@#                      4          CanvasRenderingContext2D.fillText  2.0   \n",
       "                                 Soft Ruddy Foothold 2                2          CanvasRenderingContext2D.fillText  2.0   \n",
       "doubleclick.net doubleverify.com                                                 HTMLCanvasElement.toDataURL        NaN   \n",
       "                                 !image!                              2          CanvasRenderingContext2D.fillText  2.0   \n",
       "\n",
       "                                                                                                                      0  \\\n",
       "location_domain script_domain    argument_0                           argument_1 symbol                                   \n",
       "alicdn.com      alicdn.com       image/webp                                      HTMLCanvasElement.toDataURL        2.0   \n",
       "coches.net      coches.net                                                       HTMLCanvasElement.toDataURL        2.0   \n",
       "                                 Cwm fjordbank glyphs vext quiz, ð 2          CanvasRenderingContext2D.fillText  NaN   \n",
       "                                                                      4          CanvasRenderingContext2D.fillText  NaN   \n",
       "                                 image/webp                                      HTMLCanvasElement.toDataURL        1.0   \n",
       "coupang.com     coupang.com                                                      HTMLCanvasElement.toDataURL        2.0   \n",
       "                                 !H71JCaj)]# 1@#                      4          CanvasRenderingContext2D.fillText  NaN   \n",
       "                                 Soft Ruddy Foothold 2                2          CanvasRenderingContext2D.fillText  NaN   \n",
       "doubleclick.net doubleverify.com                                                 HTMLCanvasElement.toDataURL        2.0   \n",
       "                                 !image!                              2          CanvasRenderingContext2D.fillText  NaN   \n",
       "\n",
       "                                                                                                                     0  \n",
       "location_domain script_domain    argument_0                           argument_1 symbol                                 \n",
       "alicdn.com      alicdn.com       image/webp                                      HTMLCanvasElement.toDataURL       NaN  \n",
       "coches.net      coches.net                                                       HTMLCanvasElement.toDataURL       NaN  \n",
       "                                 Cwm fjordbank glyphs vext quiz, ð 2          CanvasRenderingContext2D.fillText NaN  \n",
       "                                                                      4          CanvasRenderingContext2D.fillText NaN  \n",
       "                                 image/webp                                      HTMLCanvasElement.toDataURL       NaN  \n",
       "coupang.com     coupang.com                                                      HTMLCanvasElement.toDataURL       NaN  \n",
       "                                 !H71JCaj)]# 1@#                      4          CanvasRenderingContext2D.fillText NaN  \n",
       "                                 Soft Ruddy Foothold 2                2          CanvasRenderingContext2D.fillText NaN  \n",
       "doubleclick.net doubleverify.com                                                 HTMLCanvasElement.toDataURL       NaN  \n",
       "                                 !image!                              2          CanvasRenderingContext2D.fillText NaN  "
      ]
     },
     "execution_count": 12,
     "metadata": {},
     "output_type": "execute_result"
    }
   ],
   "source": [
    "d1 = pd.DataFrame(fillTexts.groupby(['location_domain', 'script_domain', 'argument_0', 'argument_1', 'symbol']).size())\n",
    "d2 = pd.DataFrame(toData.groupby(['location_domain','script_domain', 'argument_0', 'argument_1', 'symbol']).size())\n",
    "d3 = pd.DataFrame(measureText.groupby(['location_domain','script_domain', 'argument_0', 'argument_1', 'symbol']).size())\n",
    "pd.concat([d1, d2, d3], axis=1).head(10)"
   ]
  },
  {
   "cell_type": "code",
   "execution_count": 13,
   "metadata": {},
   "outputs": [
    {
     "data": {
      "text/html": [
       "<div>\n",
       "<style scoped>\n",
       "    .dataframe tbody tr th:only-of-type {\n",
       "        vertical-align: middle;\n",
       "    }\n",
       "\n",
       "    .dataframe tbody tr th {\n",
       "        vertical-align: top;\n",
       "    }\n",
       "\n",
       "    .dataframe thead th {\n",
       "        text-align: right;\n",
       "    }\n",
       "</style>\n",
       "<table border=\"1\" class=\"dataframe\">\n",
       "  <thead>\n",
       "    <tr style=\"text-align: right;\">\n",
       "      <th></th>\n",
       "      <th>argument_0</th>\n",
       "      <th>argument_1</th>\n",
       "      <th>argument_2</th>\n",
       "      <th>argument_3</th>\n",
       "      <th>argument_4</th>\n",
       "      <th>argument_5</th>\n",
       "      <th>argument_6</th>\n",
       "      <th>argument_7</th>\n",
       "      <th>argument_8</th>\n",
       "      <th>arguments</th>\n",
       "      <th>...</th>\n",
       "      <th>symbol</th>\n",
       "      <th>time_stamp</th>\n",
       "      <th>value</th>\n",
       "      <th>value_1000</th>\n",
       "      <th>value_len</th>\n",
       "      <th>valid</th>\n",
       "      <th>errors</th>\n",
       "      <th>location_domain</th>\n",
       "      <th>location_base_url</th>\n",
       "      <th>script_domain</th>\n",
       "    </tr>\n",
       "  </thead>\n",
       "  <tbody>\n",
       "    <tr>\n",
       "      <th>944</th>\n",
       "      <td>Soft Ruddy Foothold 2</td>\n",
       "      <td>2</td>\n",
       "      <td>2</td>\n",
       "      <td></td>\n",
       "      <td></td>\n",
       "      <td></td>\n",
       "      <td></td>\n",
       "      <td></td>\n",
       "      <td></td>\n",
       "      <td>{\"0\":\"Soft Ruddy Foothold 2\",\"1\":2,\"2\":2}</td>\n",
       "      <td>...</td>\n",
       "      <td>CanvasRenderingContext2D.fillText</td>\n",
       "      <td>2017-12-16 21:42:03.245</td>\n",
       "      <td></td>\n",
       "      <td></td>\n",
       "      <td>0</td>\n",
       "      <td>True</td>\n",
       "      <td></td>\n",
       "      <td>qvc.com</td>\n",
       "      <td>www.qvc.com</td>\n",
       "      <td>qvc.com</td>\n",
       "    </tr>\n",
       "    <tr>\n",
       "      <th>951</th>\n",
       "      <td>!H71JCaj)]# 1@#</td>\n",
       "      <td>4</td>\n",
       "      <td>8</td>\n",
       "      <td></td>\n",
       "      <td></td>\n",
       "      <td></td>\n",
       "      <td></td>\n",
       "      <td></td>\n",
       "      <td></td>\n",
       "      <td>{\"0\":\"!H71JCaj)]# 1@#\",\"1\":4,\"2\":8}</td>\n",
       "      <td>...</td>\n",
       "      <td>CanvasRenderingContext2D.fillText</td>\n",
       "      <td>2017-12-16 21:42:03.273</td>\n",
       "      <td></td>\n",
       "      <td></td>\n",
       "      <td>0</td>\n",
       "      <td>True</td>\n",
       "      <td></td>\n",
       "      <td>qvc.com</td>\n",
       "      <td>www.qvc.com</td>\n",
       "      <td>qvc.com</td>\n",
       "    </tr>\n",
       "    <tr>\n",
       "      <th>1007</th>\n",
       "      <td>&lt;@nv45. F1n63r,Pr1n71n6!</td>\n",
       "      <td>10</td>\n",
       "      <td>40</td>\n",
       "      <td></td>\n",
       "      <td></td>\n",
       "      <td></td>\n",
       "      <td></td>\n",
       "      <td></td>\n",
       "      <td></td>\n",
       "      <td>{\"0\":\"&lt;@nv45. F1n63r,Pr1n71n6!\",\"1\":10,\"2\":40}</td>\n",
       "      <td>...</td>\n",
       "      <td>CanvasRenderingContext2D.fillText</td>\n",
       "      <td>2017-12-16 21:42:03.506</td>\n",
       "      <td></td>\n",
       "      <td></td>\n",
       "      <td>0</td>\n",
       "      <td>True</td>\n",
       "      <td></td>\n",
       "      <td>qvc.com</td>\n",
       "      <td>www.qvc.com</td>\n",
       "      <td>qvc.com</td>\n",
       "    </tr>\n",
       "    <tr>\n",
       "      <th>1016</th>\n",
       "      <td>668</td>\n",
       "      <td>1</td>\n",
       "      <td>12</td>\n",
       "      <td></td>\n",
       "      <td></td>\n",
       "      <td></td>\n",
       "      <td></td>\n",
       "      <td></td>\n",
       "      <td></td>\n",
       "      <td>{\"0\":\"668\",\"1\":1,\"2\":12}</td>\n",
       "      <td>...</td>\n",
       "      <td>CanvasRenderingContext2D.fillText</td>\n",
       "      <td>2017-12-16 21:42:03.518</td>\n",
       "      <td></td>\n",
       "      <td></td>\n",
       "      <td>0</td>\n",
       "      <td>True</td>\n",
       "      <td></td>\n",
       "      <td>qvc.com</td>\n",
       "      <td>www.qvc.com</td>\n",
       "      <td>qvc.com</td>\n",
       "    </tr>\n",
       "    <tr>\n",
       "      <th>2824</th>\n",
       "      <td>Soft Ruddy Foothold 2</td>\n",
       "      <td>2</td>\n",
       "      <td>2</td>\n",
       "      <td></td>\n",
       "      <td></td>\n",
       "      <td></td>\n",
       "      <td></td>\n",
       "      <td></td>\n",
       "      <td></td>\n",
       "      <td>{\"0\":\"Soft Ruddy Foothold 2\",\"1\":2,\"2\":2}</td>\n",
       "      <td>...</td>\n",
       "      <td>CanvasRenderingContext2D.fillText</td>\n",
       "      <td>2017-12-16 09:42:20.486</td>\n",
       "      <td></td>\n",
       "      <td></td>\n",
       "      <td>0</td>\n",
       "      <td>True</td>\n",
       "      <td></td>\n",
       "      <td>coupang.com</td>\n",
       "      <td>www.coupang.com</td>\n",
       "      <td>coupang.com</td>\n",
       "    </tr>\n",
       "    <tr>\n",
       "      <th>2831</th>\n",
       "      <td>!H71JCaj)]# 1@#</td>\n",
       "      <td>4</td>\n",
       "      <td>8</td>\n",
       "      <td></td>\n",
       "      <td></td>\n",
       "      <td></td>\n",
       "      <td></td>\n",
       "      <td></td>\n",
       "      <td></td>\n",
       "      <td>{\"0\":\"!H71JCaj)]# 1@#\",\"1\":4,\"2\":8}</td>\n",
       "      <td>...</td>\n",
       "      <td>CanvasRenderingContext2D.fillText</td>\n",
       "      <td>2017-12-16 09:42:20.488</td>\n",
       "      <td></td>\n",
       "      <td></td>\n",
       "      <td>0</td>\n",
       "      <td>True</td>\n",
       "      <td></td>\n",
       "      <td>coupang.com</td>\n",
       "      <td>www.coupang.com</td>\n",
       "      <td>coupang.com</td>\n",
       "    </tr>\n",
       "    <tr>\n",
       "      <th>3400</th>\n",
       "      <td>Cwm fjordbank glyphs vext quiz, ð</td>\n",
       "      <td>2</td>\n",
       "      <td>15</td>\n",
       "      <td></td>\n",
       "      <td></td>\n",
       "      <td></td>\n",
       "      <td></td>\n",
       "      <td></td>\n",
       "      <td></td>\n",
       "      <td>{\"0\":\"Cwm fjordbank glyphs vext quiz, 😃\",\"1\":2...</td>\n",
       "      <td>...</td>\n",
       "      <td>CanvasRenderingContext2D.fillText</td>\n",
       "      <td>2017-12-16 23:20:04.501</td>\n",
       "      <td></td>\n",
       "      <td></td>\n",
       "      <td>0</td>\n",
       "      <td>True</td>\n",
       "      <td></td>\n",
       "      <td>coches.net</td>\n",
       "      <td>www.coches.net</td>\n",
       "      <td>coches.net</td>\n",
       "    </tr>\n",
       "    <tr>\n",
       "      <th>3403</th>\n",
       "      <td>Cwm fjordbank glyphs vext quiz, ð</td>\n",
       "      <td>4</td>\n",
       "      <td>45</td>\n",
       "      <td></td>\n",
       "      <td></td>\n",
       "      <td></td>\n",
       "      <td></td>\n",
       "      <td></td>\n",
       "      <td></td>\n",
       "      <td>{\"0\":\"Cwm fjordbank glyphs vext quiz, 😃\",\"1\":4...</td>\n",
       "      <td>...</td>\n",
       "      <td>CanvasRenderingContext2D.fillText</td>\n",
       "      <td>2017-12-16 23:20:04.502</td>\n",
       "      <td></td>\n",
       "      <td></td>\n",
       "      <td>0</td>\n",
       "      <td>True</td>\n",
       "      <td></td>\n",
       "      <td>coches.net</td>\n",
       "      <td>www.coches.net</td>\n",
       "      <td>coches.net</td>\n",
       "    </tr>\n",
       "    <tr>\n",
       "      <th>6648</th>\n",
       "      <td>Cwm fjordbank glyphs vext quiz, ð</td>\n",
       "      <td>2</td>\n",
       "      <td>15</td>\n",
       "      <td></td>\n",
       "      <td></td>\n",
       "      <td></td>\n",
       "      <td></td>\n",
       "      <td></td>\n",
       "      <td></td>\n",
       "      <td>{\"0\":\"Cwm fjordbank glyphs vext quiz, 😃\",\"1\":2...</td>\n",
       "      <td>...</td>\n",
       "      <td>CanvasRenderingContext2D.fillText</td>\n",
       "      <td>2017-12-16 17:51:07.982</td>\n",
       "      <td></td>\n",
       "      <td></td>\n",
       "      <td>0</td>\n",
       "      <td>True</td>\n",
       "      <td></td>\n",
       "      <td>ibs.it</td>\n",
       "      <td>www.ibs.it</td>\n",
       "      <td>appspot.com</td>\n",
       "    </tr>\n",
       "    <tr>\n",
       "      <th>6651</th>\n",
       "      <td>Cwm fjordbank glyphs vext quiz, ð</td>\n",
       "      <td>4</td>\n",
       "      <td>45</td>\n",
       "      <td></td>\n",
       "      <td></td>\n",
       "      <td></td>\n",
       "      <td></td>\n",
       "      <td></td>\n",
       "      <td></td>\n",
       "      <td>{\"0\":\"Cwm fjordbank glyphs vext quiz, 😃\",\"1\":4...</td>\n",
       "      <td>...</td>\n",
       "      <td>CanvasRenderingContext2D.fillText</td>\n",
       "      <td>2017-12-16 17:51:07.984</td>\n",
       "      <td></td>\n",
       "      <td></td>\n",
       "      <td>0</td>\n",
       "      <td>True</td>\n",
       "      <td></td>\n",
       "      <td>ibs.it</td>\n",
       "      <td>www.ibs.it</td>\n",
       "      <td>appspot.com</td>\n",
       "    </tr>\n",
       "  </tbody>\n",
       "</table>\n",
       "<p>10 rows × 33 columns</p>\n",
       "</div>"
      ],
      "text/plain": [
       "                                argument_0 argument_1 argument_2 argument_3  \\\n",
       "944                  Soft Ruddy Foothold 2          2          2              \n",
       "951                        !H71JCaj)]# 1@#          4          8              \n",
       "1007              <@nv45. F1n63r,Pr1n71n6!         10         40              \n",
       "1016                                   668          1         12              \n",
       "2824                 Soft Ruddy Foothold 2          2          2              \n",
       "2831                       !H71JCaj)]# 1@#          4          8              \n",
       "3400  Cwm fjordbank glyphs vext quiz, ð          2         15              \n",
       "3403  Cwm fjordbank glyphs vext quiz, ð          4         45              \n",
       "6648  Cwm fjordbank glyphs vext quiz, ð          2         15              \n",
       "6651  Cwm fjordbank glyphs vext quiz, ð          4         45              \n",
       "\n",
       "     argument_4 argument_5 argument_6 argument_7 argument_8  \\\n",
       "944                                                           \n",
       "951                                                           \n",
       "1007                                                          \n",
       "1016                                                          \n",
       "2824                                                          \n",
       "2831                                                          \n",
       "3400                                                          \n",
       "3403                                                          \n",
       "6648                                                          \n",
       "6651                                                          \n",
       "\n",
       "                                              arguments      ...       \\\n",
       "944           {\"0\":\"Soft Ruddy Foothold 2\",\"1\":2,\"2\":2}      ...        \n",
       "951                 {\"0\":\"!H71JCaj)]# 1@#\",\"1\":4,\"2\":8}      ...        \n",
       "1007     {\"0\":\"<@nv45. F1n63r,Pr1n71n6!\",\"1\":10,\"2\":40}      ...        \n",
       "1016                           {\"0\":\"668\",\"1\":1,\"2\":12}      ...        \n",
       "2824          {\"0\":\"Soft Ruddy Foothold 2\",\"1\":2,\"2\":2}      ...        \n",
       "2831                {\"0\":\"!H71JCaj)]# 1@#\",\"1\":4,\"2\":8}      ...        \n",
       "3400  {\"0\":\"Cwm fjordbank glyphs vext quiz, 😃\",\"1\":2...      ...        \n",
       "3403  {\"0\":\"Cwm fjordbank glyphs vext quiz, 😃\",\"1\":4...      ...        \n",
       "6648  {\"0\":\"Cwm fjordbank glyphs vext quiz, 😃\",\"1\":2...      ...        \n",
       "6651  {\"0\":\"Cwm fjordbank glyphs vext quiz, 😃\",\"1\":4...      ...        \n",
       "\n",
       "                                 symbol              time_stamp value  \\\n",
       "944   CanvasRenderingContext2D.fillText 2017-12-16 21:42:03.245         \n",
       "951   CanvasRenderingContext2D.fillText 2017-12-16 21:42:03.273         \n",
       "1007  CanvasRenderingContext2D.fillText 2017-12-16 21:42:03.506         \n",
       "1016  CanvasRenderingContext2D.fillText 2017-12-16 21:42:03.518         \n",
       "2824  CanvasRenderingContext2D.fillText 2017-12-16 09:42:20.486         \n",
       "2831  CanvasRenderingContext2D.fillText 2017-12-16 09:42:20.488         \n",
       "3400  CanvasRenderingContext2D.fillText 2017-12-16 23:20:04.501         \n",
       "3403  CanvasRenderingContext2D.fillText 2017-12-16 23:20:04.502         \n",
       "6648  CanvasRenderingContext2D.fillText 2017-12-16 17:51:07.982         \n",
       "6651  CanvasRenderingContext2D.fillText 2017-12-16 17:51:07.984         \n",
       "\n",
       "      value_1000 value_len valid  errors location_domain location_base_url  \\\n",
       "944                      0  True                 qvc.com       www.qvc.com   \n",
       "951                      0  True                 qvc.com       www.qvc.com   \n",
       "1007                     0  True                 qvc.com       www.qvc.com   \n",
       "1016                     0  True                 qvc.com       www.qvc.com   \n",
       "2824                     0  True             coupang.com   www.coupang.com   \n",
       "2831                     0  True             coupang.com   www.coupang.com   \n",
       "3400                     0  True              coches.net    www.coches.net   \n",
       "3403                     0  True              coches.net    www.coches.net   \n",
       "6648                     0  True                  ibs.it        www.ibs.it   \n",
       "6651                     0  True                  ibs.it        www.ibs.it   \n",
       "\n",
       "     script_domain  \n",
       "944        qvc.com  \n",
       "951        qvc.com  \n",
       "1007       qvc.com  \n",
       "1016       qvc.com  \n",
       "2824   coupang.com  \n",
       "2831   coupang.com  \n",
       "3400    coches.net  \n",
       "3403    coches.net  \n",
       "6648   appspot.com  \n",
       "6651   appspot.com  \n",
       "\n",
       "[10 rows x 33 columns]"
      ]
     },
     "execution_count": 13,
     "metadata": {},
     "output_type": "execute_result"
    }
   ],
   "source": [
    "pd.concat([fillTexts, toData, measureText]).head(10)"
   ]
  },
  {
   "cell_type": "markdown",
   "metadata": {},
   "source": [
    "#### Pangrams and unique render identifiers\n",
    "Below we can see some of the arguments passed to the fillTexts are pangrams (Cwm fjordbank glyphs vext quiz, ð) for example. Something that we caught in the first zip, first parquet file as we were investigating this is this argument: <@nv45. F1n63r,Pr1n71n6! . If you look closely, it says Canvas. Finger,printing! in Leetspeek. Pangrams are used to observe how a computer renders all letters plus usually a unicode item is used too. This is outlined in [The Web Never Forgets.](https://securehomes.esat.kuleuven.be/~gacar/persistent/the_web_never_forgets.pdf)\n",
    "\n",
    "Another thing we tested out of sheer curiousity is that Canvas `fillText()` actually can take `eval()` functions and output to the screen. There is no built in protection against this in the function itself. One can use an eval input and pass the argument to `fillText` to have a unique code for the visitor, or someone can use it for malicious XSS attacks."
   ]
  },
  {
   "cell_type": "markdown",
   "metadata": {},
   "source": [
    "What sort of arguments are being passed to fillTexts? \n",
    "```java\n",
    "/**\n",
    " @TODO: Show the unique arguments being passed, and maybe do a count for larger parquet additions.\n",
    "*/\n",
    "```"
   ]
  },
  {
   "cell_type": "code",
   "execution_count": 15,
   "metadata": {},
   "outputs": [
    {
     "data": {
      "text/html": [
       "<div>\n",
       "<style scoped>\n",
       "    .dataframe tbody tr th:only-of-type {\n",
       "        vertical-align: middle;\n",
       "    }\n",
       "\n",
       "    .dataframe tbody tr th {\n",
       "        vertical-align: top;\n",
       "    }\n",
       "\n",
       "    .dataframe thead th {\n",
       "        text-align: right;\n",
       "    }\n",
       "</style>\n",
       "<table border=\"1\" class=\"dataframe\">\n",
       "  <thead>\n",
       "    <tr style=\"text-align: right;\">\n",
       "      <th></th>\n",
       "      <th>argument_0</th>\n",
       "    </tr>\n",
       "  </thead>\n",
       "  <tbody>\n",
       "    <tr>\n",
       "      <th>Cwm fjordbank glyphs vext quiz, ð</th>\n",
       "      <td>8</td>\n",
       "    </tr>\n",
       "    <tr>\n",
       "      <th>Soft Ruddy Foothold 2</th>\n",
       "      <td>5</td>\n",
       "    </tr>\n",
       "    <tr>\n",
       "      <th>!H71JCaj)]# 1@#</th>\n",
       "      <td>5</td>\n",
       "    </tr>\n",
       "    <tr>\n",
       "      <th>!image!</th>\n",
       "      <td>4</td>\n",
       "    </tr>\n",
       "    <tr>\n",
       "      <th>&lt;@nv45. F1n63r,Pr1n71n6!</th>\n",
       "      <td>2</td>\n",
       "    </tr>\n",
       "  </tbody>\n",
       "</table>\n",
       "</div>"
      ],
      "text/plain": [
       "                                      argument_0\n",
       "Cwm fjordbank glyphs vext quiz, ð           8\n",
       "Soft Ruddy Foothold 2                          5\n",
       "!H71JCaj)]# 1@#                                5\n",
       "!image!                                        4\n",
       "<@nv45. F1n63r,Pr1n71n6!                       2"
      ]
     },
     "execution_count": 15,
     "metadata": {},
     "output_type": "execute_result"
    }
   ],
   "source": [
    "# Filltext arguments\n",
    "pd.DataFrame(fillTexts.argument_0.value_counts()).head()"
   ]
  },
  {
   "cell_type": "markdown",
   "metadata": {},
   "source": [
    "In \"The Web never forgets\", they mention ``CanvasRenderingContext2D.strokeText()`` being used similarly as `fillText`, although it seems filltext is more popular."
   ]
  },
  {
   "cell_type": "code",
   "execution_count": 16,
   "metadata": {},
   "outputs": [
    {
     "data": {
      "text/html": [
       "<div>\n",
       "<style scoped>\n",
       "    .dataframe tbody tr th:only-of-type {\n",
       "        vertical-align: middle;\n",
       "    }\n",
       "\n",
       "    .dataframe tbody tr th {\n",
       "        vertical-align: top;\n",
       "    }\n",
       "\n",
       "    .dataframe thead th {\n",
       "        text-align: right;\n",
       "    }\n",
       "</style>\n",
       "<table border=\"1\" class=\"dataframe\">\n",
       "  <thead>\n",
       "    <tr style=\"text-align: right;\">\n",
       "      <th></th>\n",
       "      <th></th>\n",
       "      <th></th>\n",
       "      <th>0</th>\n",
       "    </tr>\n",
       "    <tr>\n",
       "      <th>location_domain</th>\n",
       "      <th>script_domain</th>\n",
       "      <th>argument_0</th>\n",
       "      <th></th>\n",
       "    </tr>\n",
       "  </thead>\n",
       "  <tbody>\n",
       "  </tbody>\n",
       "</table>\n",
       "</div>"
      ],
      "text/plain": [
       "Empty DataFrame\n",
       "Columns: [0]\n",
       "Index: []"
      ]
     },
     "execution_count": 16,
     "metadata": {},
     "output_type": "execute_result"
    }
   ],
   "source": [
    "pd.DataFrame(strokeText.groupby(['location_domain', 'script_domain', 'argument_0']).size()) #Pulling up StrokeText"
   ]
  },
  {
   "cell_type": "code",
   "execution_count": 17,
   "metadata": {},
   "outputs": [
    {
     "data": {
      "text/html": [
       "<div>\n",
       "<style scoped>\n",
       "    .dataframe tbody tr th:only-of-type {\n",
       "        vertical-align: middle;\n",
       "    }\n",
       "\n",
       "    .dataframe tbody tr th {\n",
       "        vertical-align: top;\n",
       "    }\n",
       "\n",
       "    .dataframe thead th {\n",
       "        text-align: right;\n",
       "    }\n",
       "</style>\n",
       "<table border=\"1\" class=\"dataframe\">\n",
       "  <thead>\n",
       "    <tr style=\"text-align: right;\">\n",
       "      <th></th>\n",
       "      <th></th>\n",
       "      <th></th>\n",
       "      <th></th>\n",
       "      <th></th>\n",
       "      <th>0</th>\n",
       "      <th>0</th>\n",
       "    </tr>\n",
       "    <tr>\n",
       "      <th>location_domain</th>\n",
       "      <th>script_domain</th>\n",
       "      <th>argument_0</th>\n",
       "      <th>argument_1</th>\n",
       "      <th>symbol</th>\n",
       "      <th></th>\n",
       "      <th></th>\n",
       "    </tr>\n",
       "  </thead>\n",
       "  <tbody>\n",
       "    <tr>\n",
       "      <th rowspan=\"2\" valign=\"top\">alicdn.com</th>\n",
       "      <th rowspan=\"2\" valign=\"top\">alicdn.com</th>\n",
       "      <th>2d</th>\n",
       "      <th></th>\n",
       "      <th>HTMLCanvasElement.getContext</th>\n",
       "      <td>5.0</td>\n",
       "      <td>NaN</td>\n",
       "    </tr>\n",
       "    <tr>\n",
       "      <th>image/webp</th>\n",
       "      <th></th>\n",
       "      <th>HTMLCanvasElement.toDataURL</th>\n",
       "      <td>NaN</td>\n",
       "      <td>2.0</td>\n",
       "    </tr>\n",
       "    <tr>\n",
       "      <th>autozone.com</th>\n",
       "      <th>monetate.net</th>\n",
       "      <th>2d</th>\n",
       "      <th></th>\n",
       "      <th>HTMLCanvasElement.getContext</th>\n",
       "      <td>1.0</td>\n",
       "      <td>NaN</td>\n",
       "    </tr>\n",
       "    <tr>\n",
       "      <th>city-data.com</th>\n",
       "      <th>city-data.com</th>\n",
       "      <th>2d</th>\n",
       "      <th></th>\n",
       "      <th>HTMLCanvasElement.getContext</th>\n",
       "      <td>20.0</td>\n",
       "      <td>NaN</td>\n",
       "    </tr>\n",
       "    <tr>\n",
       "      <th rowspan=\"4\" valign=\"top\">coches.net</th>\n",
       "      <th rowspan=\"4\" valign=\"top\">coches.net</th>\n",
       "      <th></th>\n",
       "      <th></th>\n",
       "      <th>HTMLCanvasElement.toDataURL</th>\n",
       "      <td>NaN</td>\n",
       "      <td>2.0</td>\n",
       "    </tr>\n",
       "    <tr>\n",
       "      <th>2d</th>\n",
       "      <th></th>\n",
       "      <th>HTMLCanvasElement.getContext</th>\n",
       "      <td>3.0</td>\n",
       "      <td>NaN</td>\n",
       "    </tr>\n",
       "    <tr>\n",
       "      <th>image/webp</th>\n",
       "      <th></th>\n",
       "      <th>HTMLCanvasElement.toDataURL</th>\n",
       "      <td>NaN</td>\n",
       "      <td>1.0</td>\n",
       "    </tr>\n",
       "    <tr>\n",
       "      <th>webgl</th>\n",
       "      <th></th>\n",
       "      <th>HTMLCanvasElement.getContext</th>\n",
       "      <td>1.0</td>\n",
       "      <td>NaN</td>\n",
       "    </tr>\n",
       "    <tr>\n",
       "      <th rowspan=\"2\" valign=\"top\">coupang.com</th>\n",
       "      <th rowspan=\"2\" valign=\"top\">coupang.com</th>\n",
       "      <th></th>\n",
       "      <th></th>\n",
       "      <th>HTMLCanvasElement.toDataURL</th>\n",
       "      <td>NaN</td>\n",
       "      <td>2.0</td>\n",
       "    </tr>\n",
       "    <tr>\n",
       "      <th>2d</th>\n",
       "      <th></th>\n",
       "      <th>HTMLCanvasElement.getContext</th>\n",
       "      <td>4.0</td>\n",
       "      <td>NaN</td>\n",
       "    </tr>\n",
       "  </tbody>\n",
       "</table>\n",
       "</div>"
      ],
      "text/plain": [
       "                                                                                     0  \\\n",
       "location_domain script_domain argument_0 argument_1 symbol                               \n",
       "alicdn.com      alicdn.com    2d                    HTMLCanvasElement.getContext   5.0   \n",
       "                              image/webp            HTMLCanvasElement.toDataURL    NaN   \n",
       "autozone.com    monetate.net  2d                    HTMLCanvasElement.getContext   1.0   \n",
       "city-data.com   city-data.com 2d                    HTMLCanvasElement.getContext  20.0   \n",
       "coches.net      coches.net                          HTMLCanvasElement.toDataURL    NaN   \n",
       "                              2d                    HTMLCanvasElement.getContext   3.0   \n",
       "                              image/webp            HTMLCanvasElement.toDataURL    NaN   \n",
       "                              webgl                 HTMLCanvasElement.getContext   1.0   \n",
       "coupang.com     coupang.com                         HTMLCanvasElement.toDataURL    NaN   \n",
       "                              2d                    HTMLCanvasElement.getContext   4.0   \n",
       "\n",
       "                                                                                    0  \n",
       "location_domain script_domain argument_0 argument_1 symbol                             \n",
       "alicdn.com      alicdn.com    2d                    HTMLCanvasElement.getContext  NaN  \n",
       "                              image/webp            HTMLCanvasElement.toDataURL   2.0  \n",
       "autozone.com    monetate.net  2d                    HTMLCanvasElement.getContext  NaN  \n",
       "city-data.com   city-data.com 2d                    HTMLCanvasElement.getContext  NaN  \n",
       "coches.net      coches.net                          HTMLCanvasElement.toDataURL   2.0  \n",
       "                              2d                    HTMLCanvasElement.getContext  NaN  \n",
       "                              image/webp            HTMLCanvasElement.toDataURL   1.0  \n",
       "                              webgl                 HTMLCanvasElement.getContext  NaN  \n",
       "coupang.com     coupang.com                         HTMLCanvasElement.toDataURL   2.0  \n",
       "                              2d                    HTMLCanvasElement.getContext  NaN  "
      ]
     },
     "execution_count": 17,
     "metadata": {},
     "output_type": "execute_result"
    }
   ],
   "source": [
    "#Combining getcontext and tourldata to see if context is instead used as a canvas fingerprint method.\n",
    "d1 = pd.DataFrame(getContext.groupby(['location_domain','script_domain', 'argument_0', 'argument_1', 'symbol']).size())\n",
    "d2 = pd.DataFrame(toData.groupby(['location_domain','script_domain', 'argument_0', 'argument_1', 'symbol']).size())\n",
    "pd.concat([d1, d2], axis=1).head(10)"
   ]
  },
  {
   "cell_type": "markdown",
   "metadata": {},
   "source": [
    "Above we can see a call to grab `HTMLCanvasElement.getContext()`, which returns information on the drawing context for the canvas. It can be used to check rendering. If `toDataURL` is paired, it's most likely using that as a fingerprint. See [canvas](https://cseweb.ucsd.edu/~hovav/dist/canvas.pdf), the pdf used that explains how getcontext works to fingerprint and [webgl](https://browserleaks.com/webgl) fingerprinting, which is a another beast that is beyond the scope of this analysis. "
   ]
  },
  {
   "cell_type": "markdown",
   "metadata": {},
   "source": [
    "# Canvas Fingerprinting Check"
   ]
  },
  {
   "cell_type": "markdown",
   "metadata": {},
   "source": [
    "Princeton University ran a project looking into various fingerprinting methods and came up with a long list of script URLs that make use of Canvas fingerprinting. The URL is located [here](https://webtransparency.cs.princeton.edu/webcensus/canvas_scripts.html). We compared the data found in the Princeton .tsv against the suspected canvas using URLs. We found that the URLs that have been popping up in our data pulls matched those gathered by Princeton, which helps both show what kind of Canvas attributes are being used and also to backup our analysis.  "
   ]
  },
  {
   "cell_type": "markdown",
   "metadata": {},
   "source": [
    "> The following code was taken from part of the [Session Replay analysis](https://github.com/mozilla/UCOSP-winter-2018_TrackingTechnologies) from the Winter UCOSP student cohort. The code falls under the terms of [this](https://github.com/mozilla/UCOSP-winter-2018_TrackingTechnologies/blob/master/LICENSE) license which should be included in any modified or redistributed form of this notebook. "
   ]
  },
  {
   "cell_type": "code",
   "execution_count": 18,
   "metadata": {},
   "outputs": [],
   "source": [
    "def get_cfp_sites():\n",
    "    \"\"\"Loads a list of canvas fingerprinting script providers discovered as part of the Princeton WebTAP project,\n",
    "    which listed sites within the Alexa top 100,000 that show signs of canvas fingerprinting scripts.\n",
    "    \"\"\"\n",
    "    cfp_csv_raw = requests.get(\"https://webtransparency.cs.princeton.edu/webcensus/canvas_fingerprinting.tsv\")\n",
    "    # cfp_csv_raw\n",
    "    cfp_csv = pd.read_csv(StringIO(cfp_csv_raw.text), sep=\"\\t\",  names=[\"site\", \"fp_domain\"])\n",
    "    cfp_csv['fp_cut_domain'] = cfp_csv.fp_domain.apply(extract_domain)\n",
    "    return list(cfp_csv.fp_cut_domain.unique())"
   ]
  },
  {
   "cell_type": "code",
   "execution_count": 19,
   "metadata": {},
   "outputs": [],
   "source": [
    "#Gets list of script domains\n",
    "cfp_sites = get_cfp_sites()"
   ]
  },
  {
   "cell_type": "markdown",
   "metadata": {},
   "source": [
    "How many unique domains are there?"
   ]
  },
  {
   "cell_type": "code",
   "execution_count": 20,
   "metadata": {},
   "outputs": [
    {
     "data": {
      "text/plain": [
       "373"
      ]
     },
     "execution_count": 20,
     "metadata": {},
     "output_type": "execute_result"
    }
   ],
   "source": [
    "len(cfp_sites)"
   ]
  },
  {
   "cell_type": "code",
   "execution_count": 21,
   "metadata": {},
   "outputs": [
    {
     "data": {
      "text/plain": [
       "['doubleverify.com',\n",
       " 'lijit.com',\n",
       " 'adbox.lk',\n",
       " 'aa.com.ve',\n",
       " 'seewhy.com',\n",
       " 'adf.ly',\n",
       " 'addthis.com',\n",
       " 'bling99.com',\n",
       " 'playsport.cc',\n",
       " 'gazeta.pl']"
      ]
     },
     "execution_count": 21,
     "metadata": {},
     "output_type": "execute_result"
    }
   ],
   "source": [
    "cfp_sites[0:10]"
   ]
  },
  {
   "cell_type": "markdown",
   "metadata": {},
   "source": [
    "Next, we find instances in the full dataset where the script_url is one of the known canvas fingerprinting providers.\n",
    "\n",
    "First, extract the main page URLs and script URLs from the dataset\n"
   ]
  },
  {
   "cell_type": "code",
   "execution_count": 22,
   "metadata": {},
   "outputs": [
    {
     "data": {
      "text/plain": [
       "27340"
      ]
     },
     "execution_count": 22,
     "metadata": {},
     "output_type": "execute_result"
    }
   ],
   "source": [
    "df = spark.read.parquet(PARQUET_FILE) #Adjust to PARQUET_FILE\n",
    "df.count() "
   ]
  },
  {
   "cell_type": "markdown",
   "metadata": {},
   "source": [
    "How many distinct script calls are there in the full dataset?"
   ]
  },
  {
   "cell_type": "code",
   "execution_count": 23,
   "metadata": {},
   "outputs": [
    {
     "data": {
      "text/plain": [
       "1889"
      ]
     },
     "execution_count": 23,
     "metadata": {},
     "output_type": "execute_result"
    }
   ],
   "source": [
    "df_urls = df.select(\"location\", \"script_url\").distinct()\n",
    "n_rows = df_urls.count()\n",
    "n_rows"
   ]
  },
  {
   "cell_type": "markdown",
   "metadata": {},
   "source": [
    "Add additional colums for extracted components of the URLs that we will use in the analysis."
   ]
  },
  {
   "cell_type": "code",
   "execution_count": 24,
   "metadata": {},
   "outputs": [],
   "source": [
    "def parse_base_url(url):\n",
    "  \"\"\" Extract the base part of a URL (netloc, up until the first '/'). \"\"\"\n",
    "  return urlparse(url).netloc\n",
    "udf_parse_base_url = udf(parse_base_url, StringType())\n",
    "\n",
    "def parse_url_scheme(url):\n",
    "  \"\"\" Extract the scheme (protocol) from a URL. \"\"\"\n",
    "  return urlparse(url).scheme\n",
    "udf_parse_url_scheme = udf(parse_url_scheme, StringType())\n",
    "\n",
    "def parse_suffix(url):\n",
    "  \"\"\" Extract the suffix (TLD) from a URL. \"\"\"\n",
    "  return url.split(\".\")[-1]\n",
    "udf_parse_suffix = udf(parse_suffix, StringType())"
   ]
  },
  {
   "cell_type": "code",
   "execution_count": 25,
   "metadata": {},
   "outputs": [],
   "source": [
    "# total distinct script calls with added columns\n",
    "udf_parse_domain = udf(extract_domain, StringType())\n",
    "df_urls = df_urls.withColumn(\"base_location_url\", udf_parse_base_url(df.location))\\\n",
    "  .withColumn(\"base_script_url\", udf_parse_base_url(df.script_url))\\\n",
    "  .withColumn(\"location_scheme\", udf_parse_url_scheme(df.location))\\\n",
    "  .withColumn(\"script_scheme\", udf_parse_url_scheme(df.script_url))\\\n",
    "  .withColumn(\"location_domain\", udf_parse_domain(df.location))\\\n",
    "  .withColumn(\"script_domain\", udf_parse_domain(df.script_url))\n",
    "df_urls = df_urls.withColumn(\"location_suffix\", udf_parse_suffix(df_urls.base_location_url))"
   ]
  },
  {
   "cell_type": "markdown",
   "metadata": {},
   "source": [
    "## Canvas fingerprinting scripts\n",
    "\n",
    "Find the subset that correspond to canvas fingerprinting scripts."
   ]
  },
  {
   "cell_type": "code",
   "execution_count": 26,
   "metadata": {},
   "outputs": [],
   "source": [
    "CFP_REGEX = \"|\".join(cfp_sites)"
   ]
  },
  {
   "cell_type": "code",
   "execution_count": 27,
   "metadata": {},
   "outputs": [
    {
     "data": {
      "text/plain": [
       "'doubleverify.com|lijit.com|adbox.lk|aa.com.ve|seewhy.com|adf.ly|addthis.com|bling99.com|playsport.cc|gazeta.pl|banker.bg|spankbang.com|cloudfront.net|shopjapan.co.jp|cdnetworks.com|bitmedia.io|nt.vc|eyenewton.ru|eyereturn.com|watcheezy.com|pxi.pub|wemark.com|emop.be|groupon.ch|groupon.co.uk|groupon.be|groupon.pt|pof.de|yandex.ru|cntntflow.hu|poll-maker.com|watcheezy.net|runningbare.com.au|fraudmetrix.cn|cloudcrm.co|mileroticos.com|uol.com.br|imusicaradios.com.br|constantcontact.com|pet360.com|ratepay.com|trustedform.com|imedia.cz|sa-mp.im|metrigo.com|cdnetworks.co.jp|free-dollar.com|pof.com.mx|qualoperadora.net|groupon.cl|cformanalytics.com|mindedgeonline.com|job1001.com|machinio.com|pardisgame.net|y-track.com|adlibr.com|straitstimes.com|groupon.it|kbmg.com|jogging-point.de|vimeoo.net|kf2.pl|eternalcrusade.com|news.com.au|ozelders.com|namebrightstatic.com|grouponnz.co.nz|revmob.com|amazonaws.com|websosanh.com|laaptu.com|ml.com|emarsys.net|groupon.se|163.com|worldota.net|rastclick.com|cubo.ru|qbox.me|todesanzeigenportal.ch|mikunu.hu|c-ctrip.com|lmitassets.com|100credit.com|popmajor.com|magnuum.com|detecas.com|blacklapel.com|overheat.it|dmp.expert|loglys.com|tennis-point.es|maxmind.com|pornimagex.com|listenloop.com|tech.eu|groupon.dk|visitdubai.com|baituibao.com|r24-tech.com|edgesuite.net|24k88.eu|liverail.com|dataguru.cn|safe-swaps.com|ringcaptcha.com|dropboxstatic.com|groupon.ae|yimg.jp|tilley.com|tagcommander.com|sehirfirsati.com|bethesda.net|ze.gy|lnwtrue.com|finance.si|avito.st|pof.com|luxbet.com|llnwd.net|sendinblue.com|dvipcdn.com|rslt-tm.com|divers-supply.com|peachjohn.co.jp|plenigo.com|farmforumequipment.com|directnet.com|vcmedia.vn|stockpair.com|bitcoin-purple.com|portaldaagencia.com.br|hwcdn.net|groupon.de|sklik.cz|pokerstars.com|tecnomedia.info|arabiantravelmarket.com|imngmedicalmedia.com|triongames.com|maximizatusganancias.com|linecladis.pl|groupon.at|tennis-point.se|tbcdn.cn|mupads.de|wirespring.net|minecraftforum.nl|walmart.com|pixlee.com|ctrip.com|topmags.com|6000.ru|clearsale.com.br|adacado.com|fmail1.com|cdn-net.com|bitcoin-green.com|k-analytix.com|beelert.com|niftymillionaire.com|autoaubaine.com|bsg-online.com|nrc.nl|litcult.ru|freebitcoinnow.com|americanairlines.cn|tennis-point.com|terre-net-media.fr|meilishuo.com|hujiang.com|glo-bus.com|bitcoin-blue.com|gbk.co.uk|aa.com.br|novelasnow.info|artklen.ru|groupon.com.au|art.su|pof.fr|tennis-point.fr|yesbackup.com|bonfirefunds.com|emrrs.com|tiger333.com|groupon.ca|tennis-point.ch|nitroflare.com|pcforum.sk|nnt.ro|conradpro.fr|mogucdn.com|cncenter.cz|audienceinsights.net|groupon.fr|adlb.in|goloopdevs.com|udimi.com|pilotsofamerica.com|intherooms.com|conrad.fr|dropcatch.com|aa.com.do|winfreelitecoin.com|3suisses.be|yogiyo.co.kr|groupon.com.pe|surveygizmo.com|madeleine.fr|bitmarket.pl|cuberoot.co|7sheep.net|groupon.co.za|viralies.com|americanairlines.co.uk|185.86.180.17.|revenviews.com|aixuedai.com|anexia-it.com|kinley.com|magazine.org|ad-score.com|supplychainbrain.com|meinkauf.at|flx1.com|myfritz.net|bubobox.com|stuartweitzman.ca|bitcoin-black.com|krxd.net|retargetingbase.com|guahao.com|groupon.ie|cellartracker.com|websosanh.vn|commbank.com.au|pokerstars.eu|bvckup2.com|ch10.co.il|payleven.com.br|webcube-dsp.jp|groupon.nl|alephbeta.org|groupon.com.br|ponroy.com|sexlog.com.br|castorus.com|groupon.fi|mailup.com|mooma.sh|portal-srbija.com|pcgamesupply.com|thefunnel.jp|eventim.com|bitcoin-red.com|alicdn.com|linio.com.mx|alfafile.net|guff.com|hypem.net|newsmonkey.be|online-safest.com|altayyaronline.com|paidai.com|francescas.com|pangjian.info|126.net|tennis-point.it|bkrtx.com|gpbikes.com|maskool.in|rtbf.be|onlinebingo.eu|gifthunterclub.com|tda.io|navigator.io|minichan.org|cabforce.com|tennis-point.de|e-hawk.net|csemag.com|voguepay.com|midem.com|khamnamkhoa.org|korbit.co.kr|herr.io|robertsspaceindustries.com|kichink.com|top10bestdatingsites.co.za|voipbuster.com|vezetvsem.ru|cashew3d.com|groupon.co.il|lynxbroker.de|culture.ru|boo-box.com|ind.sh|chroma.pl|lifeproof.jp|cartrucktrader.com|groupon.com.co|52.28.105.192.|49winners.com|dotwconnect.com|codziennypoznan.pl|playnowunlimited.biz|bitcoin-yellow.com|ipage.com|avianca.com.br|pepper56.com|hu.com|groupon.es|controleng.com|wiredminds.de|webdistrib.com|grouponcdn.com|freebitcoinwin.com|prozeny.cz|metascan-online.com|bitcoin2048.com|cafe-privilege.com|earnbitcoinz.com|groupon.com.ar|americanairlines.cl|willemsefrance.fr|incapsula.mobi|eestatic.com|startaj.si|pageplusbillpay.com|trustami.com|pof.es|laaptu.co.in|e701.net|bizwest.com|petfooddirect.com|10bo1010.com|online-metrix.net|saveinstore.com|memes.com|bonjoin.com|revtrax.com|mhconx.com|affec.tv|groupon.gr|wacker.com|bigfm.de|groupon.com.mx|pagespeedgrader.com|tennis-point.nl|nigeriapoliticsonline.com|turboyourpc.com|kibitzer.io|csp.fr|x2crm.com|aa.com|groupon.pl|duosecurity.com|fonmoney.com|plantengineering.com|adpearance.com|pof.com.br|gamecollections.net|direct2drive.com|imn.jp|szgla.com|fantage.com|innogamescdn.com|wazap.com|aa.com.pe|pikabu.ru|bitcoin-orange.com|domananeve.ru'"
      ]
     },
     "execution_count": 27,
     "metadata": {},
     "output_type": "execute_result"
    }
   ],
   "source": [
    "CFP_REGEX"
   ]
  },
  {
   "cell_type": "code",
   "execution_count": 28,
   "metadata": {},
   "outputs": [],
   "source": [
    "sites_using_canvas_fingerprinting =  df_urls.filter(df_urls.base_script_url.rlike(CFP_REGEX))"
   ]
  },
  {
   "cell_type": "markdown",
   "metadata": {},
   "source": [
    "Overall, how many calls are made to canvas fingerprinting scripts?"
   ]
  },
  {
   "cell_type": "code",
   "execution_count": 29,
   "metadata": {},
   "outputs": [
    {
     "data": {
      "text/plain": [
       "116"
      ]
     },
     "execution_count": 29,
     "metadata": {},
     "output_type": "execute_result"
    }
   ],
   "source": [
    "sites_using_canvas_fingerprinting.count()"
   ]
  },
  {
   "cell_type": "markdown",
   "metadata": {},
   "source": [
    "```java\n",
    "/**\n",
    " @TODO: Show the unique arguments being passed, and maybe do a count for larger parquet additions.\n",
    "*/\n",
    "```\n",
    "\n",
    "Above is the number of distinct calls to canvas fingerprinting scripts (one location might call two different scripts)\n",
    "\n",
    "from 29688 distinct calls, 2105 were made to known canvas fingerprinting script urls"
   ]
  },
  {
   "cell_type": "markdown",
   "metadata": {},
   "source": [
    "How many distinct base URLs are there among the sites in the dataset? (from 29688 distinct calls- where one location might make 2 different calls and therefor be listed twice- how many distinct locations are making calls?)"
   ]
  },
  {
   "cell_type": "code",
   "execution_count": 30,
   "metadata": {},
   "outputs": [
    {
     "data": {
      "text/plain": [
       "357"
      ]
     },
     "execution_count": 30,
     "metadata": {},
     "output_type": "execute_result"
    }
   ],
   "source": [
    "df_urls.dropDuplicates(['base_location_url']).count()"
   ]
  },
  {
   "cell_type": "markdown",
   "metadata": {},
   "source": [
    "3405 locations (base urls) out of 29688 are distinct"
   ]
  },
  {
   "cell_type": "markdown",
   "metadata": {},
   "source": [
    "And of **those** using cfp?\n"
   ]
  },
  {
   "cell_type": "code",
   "execution_count": 31,
   "metadata": {},
   "outputs": [
    {
     "data": {
      "text/plain": [
       "59"
      ]
     },
     "execution_count": 31,
     "metadata": {},
     "output_type": "execute_result"
    }
   ],
   "source": [
    "sites_using_canvas_fingerprinting.dropDuplicates(['base_location_url']).count()\n"
   ]
  },
  {
   "cell_type": "markdown",
   "metadata": {},
   "source": [
    "Of the 3405 total distinct calls to known canvas fingerprinting scripts, 701 of those locations are distinct, which is quite a significant finding. "
   ]
  },
  {
   "cell_type": "markdown",
   "metadata": {},
   "source": [
    "Overall stats\n",
    "\n",
    "    Total unique (page, script) calls in the dataset: 29688\n",
    "    Total unique base locations (netloc): 3405\n",
    "\n",
    "    Total unique calls to CFP providers: 2105\n",
    "    Total unique base locations using CFP: 701\n",
    "    % of calls that are to a CFP provider: 7% (2105/29688)\n",
    "    % of sites(base url) that uses a CFP provider: 21% (701/3405) \n",
    "    "
   ]
  },
  {
   "cell_type": "markdown",
   "metadata": {},
   "source": [
    "We would like to add [known canvas font fingerprinting scripts](https://webtransparency.cs.princeton.edu/webcensus/font_scripts.html) to our count check, and would also like to check how many of the urls we identified by checking fillText, toDataURL (and the other symbols) would match the urls we found matching the known scripting sites from the list(s).  \n",
    "\n",
    "In addition to our analysis on canvas fingerprinting, an area we really wanted to explore but couldn't (due to limited python knowledge/skill and not enough time with the deadline to figure out how to get things working), was the presence of evercookies mentioned in the blog.  \n",
    "  \n",
    "We noticed there were many calls involving window.Storage, and when looking more closely at the data, we observed quite a number of instances where a locations document.cookie ID values would match the value returned by, or an argument passed in to a storage (often localStorage) location. For eg. in the sample data, https://www.gartner.com/events/emea/customer-experience has scripts that sets cookie ID's which are then passed to various storage locations as well as window.name, both well known techniques for ensuring deleted user cookies persist regardless of if the user deletes them.  \n",
    "  \n",
    "The evercookies/supercookies analyses we would have liked to perform (and will continue working on this for our own learning experiences) would involve taking parsed document.cookie id values, and checking how many are involved in window.name or storage calls for the same location url or script url.\n",
    "\n",
    "Future direction would involve researching how Etags work and seeing if this data set might reveal their use by analyzing call stack and urls. "
   ]
  }
 ],
 "metadata": {
  "kernelspec": {
   "display_name": "Python 3",
   "language": "python",
   "name": "python3"
  },
  "language_info": {
   "codemirror_mode": {
    "name": "ipython",
    "version": 3
   },
   "file_extension": ".py",
   "mimetype": "text/x-python",
   "name": "python",
   "nbconvert_exporter": "python",
   "pygments_lexer": "ipython3",
   "version": "3.6.5"
  }
 },
 "nbformat": 4,
 "nbformat_minor": 2
}
